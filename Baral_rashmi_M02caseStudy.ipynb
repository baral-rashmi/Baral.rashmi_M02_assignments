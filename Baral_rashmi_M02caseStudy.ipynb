{
 "cells": [
  {
   "cell_type": "code",
   "execution_count": 1,
   "id": "efedc6f2",
   "metadata": {},
   "outputs": [
    {
     "name": "stdout",
     "output_type": "stream",
     "text": [
      "Enter your last name (enter 'ZZZ' to quit): baral\n",
      "Enter your first name: rashmi\n",
      "Enter your GPA: 3.25\n",
      "Congratulations! You made it into the Honor Roll.\n",
      "Enter your last name (enter 'ZZZ' to quit): Dev\n",
      "Enter your first name: Sristi\n",
      "Enter your GPA: 3.5\n",
      "Congratulations! You made it into the Dean's List.\n",
      "Enter your last name (enter 'ZZZ' to quit): love\n",
      "Enter your first name: rosie\n",
      "Enter your GPA: 2.5\n",
      "You have not made it to the Dean's List or the Honor Roll.\n",
      "Enter your last name (enter 'ZZZ' to quit): ZZZ\n"
     ]
    }
   ],
   "source": [
    "\"\"\"\n",
    "Rashmi Baral\n",
    "M02 Lab- Case study\n",
    "A Python app that accepts student names and GPAs and test if the student qualifies for either the \n",
    "Dean's List or the Honor Roll\n",
    "\"\"\"\n",
    "while True:\n",
    "    last_name = input(\"Enter your last name (enter 'ZZZ' to quit): \")\n",
    "#     allows user to input their last name and just in case a user wants to exit they can type ZZZ\n",
    "    \n",
    "    if last_name == \"ZZZ\":\n",
    "        break\n",
    "# exit out from the while loop\n",
    "    \n",
    "    first_name = input(\"Enter your first name: \")\n",
    "# allows user to type their first_name\n",
    "    student_gpa = float(input(\"Enter your GPA: \"))\n",
    "# allows user to input their GPA\n",
    "    \n",
    "    if student_gpa >= 3.5:\n",
    "        print(\"Congratulations! You made it into the Dean's List.\")\n",
    "# compares whether the input gpa is equal or greater than 3.5 and provides outputs messge accordingly\n",
    "    elif student_gpa >= 3.25:\n",
    "        print(\"Congratulations! You made it into the Honor Roll.\")\n",
    "# compares whether the input gpa is equal or greater than 3.25 and provides outputs messge accordingly\n",
    "    else:\n",
    "        print(\"You have not made it to the Dean's List or the Honor Roll.\")\n",
    "# displays message to the student that they did not qualify for either the Dean's List or the Honor Roll\n"
   ]
  }
 ],
 "metadata": {
  "kernelspec": {
   "display_name": "Python 3 (ipykernel)",
   "language": "python",
   "name": "python3"
  },
  "language_info": {
   "codemirror_mode": {
    "name": "ipython",
    "version": 3
   },
   "file_extension": ".py",
   "mimetype": "text/x-python",
   "name": "python",
   "nbconvert_exporter": "python",
   "pygments_lexer": "ipython3",
   "version": "3.11.4"
  }
 },
 "nbformat": 4,
 "nbformat_minor": 5
}
