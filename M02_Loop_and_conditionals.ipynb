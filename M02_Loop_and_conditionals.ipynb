{
 "cells": [
  {
   "cell_type": "code",
   "execution_count": 1,
   "id": "2c59b8b1",
   "metadata": {},
   "outputs": [
    {
     "name": "stdout",
     "output_type": "stream",
     "text": [
      "Too low\n"
     ]
    }
   ],
   "source": [
    "\"\"\"\n",
    "Loop and conditionals\n",
    "Things to do 4.1\n",
    "Program to compare two numbers assigned in two different variables\n",
    "Rashmi Baral\n",
    "\"\"\"\n",
    "secret = 7\n",
    "# Assigning a number in a variable called secret \n",
    "guess = 2\n",
    "# Assigning a number in a variable called guess\n",
    "if guess > secret:\n",
    "    print(\"Too high\")\n",
    "# compares whether the variable in secret is greater than variable in guess\n",
    "elif guess < secret:\n",
    "    print (\"Too low\")\n",
    "# compares whether the variable in secret is less than variable in guess\n",
    "else: \n",
    "    print (\"Just right\")"
   ]
  },
  {
   "cell_type": "code",
   "execution_count": 2,
   "id": "3a87e50f",
   "metadata": {},
   "outputs": [
    {
     "name": "stdout",
     "output_type": "stream",
     "text": [
      "Pea\n"
     ]
    }
   ],
   "source": [
    "\"\"\"\n",
    "Loop and conditionals\n",
    "Things to do 4.2\n",
    "Program consisting two boolean operators to compare 4 choices of fruits\n",
    "Rashmi Baral\n",
    "\"\"\"\n",
    "small = True\n",
    "green = False\n",
    "# given fruits_list = {cherry, pea, watermelon, pumpkin}\n",
    "if small and green:\n",
    "    print(\"Cherry\")\n",
    "# cherry is small but not green\n",
    "elif not small and green:\n",
    "    print(\"Watermelon\")\n",
    "# watermelon is not small but green\n",
    "elif small and not green:\n",
    "    print (\"Pea\")\n",
    "# pea is small and green\n",
    "else:\n",
    "    print(\"Pumpkin\")"
   ]
  },
  {
   "cell_type": "code",
   "execution_count": 1,
   "id": "66433ede",
   "metadata": {},
   "outputs": [
    {
     "name": "stdout",
     "output_type": "stream",
     "text": [
      "3\n",
      "2\n",
      "1\n",
      "0\n"
     ]
    }
   ],
   "source": [
    "\"\"\"\n",
    "Loop with while and for \n",
    "Things to do 6.1\n",
    "Using a for loop to print the values of the list [3, 2, 1, 0]\n",
    "Rashmi Baral\n",
    "\"\"\"\n",
    "list = [3,2,1,0]\n",
    "for number in list:\n",
    "#     for loop to include every numbers in the list\n",
    "    print(number)\n",
    "#     prints every number present in the list \n",
    "    \n",
    "\n"
   ]
  },
  {
   "cell_type": "code",
   "execution_count": 4,
   "id": "831c0a20",
   "metadata": {},
   "outputs": [
    {
     "name": "stdout",
     "output_type": "stream",
     "text": [
      "too low\n",
      "too low\n",
      "too low\n",
      "too low\n",
      "too low\n",
      "too low\n",
      "found it\n"
     ]
    }
   ],
   "source": [
    "\"\"\"\n",
    "Loop with while and for \n",
    "Things to do 6.2\n",
    "Using while loop to compare numbers\n",
    "Rashmi Baral\n",
    "\"\"\"\n",
    "\n",
    "guess_me = 7 \n",
    "# assigning 7 to variable guess_me\n",
    "number = 1\n",
    "#  assigning 1 to number\n",
    "while number <= guess_me:\n",
    "# while loop that compares number with guess_me\n",
    "    if number < guess_me:\n",
    "        print(\"too low\")\n",
    "#         compares whether the number is less than guess_me\n",
    "    elif number == guess_me:\n",
    "#        compares whether the number is equal to guess_me\n",
    "        print(\"found it\")\n",
    "        break\n",
    "#         break out of the while loop\n",
    "    else:\n",
    "        print(\"oops\")\n",
    "        break \n",
    "    number += 1\n",
    "# increment of number at the end of loop"
   ]
  },
  {
   "cell_type": "code",
   "execution_count": 2,
   "id": "bbc429d0",
   "metadata": {},
   "outputs": [
    {
     "name": "stdout",
     "output_type": "stream",
     "text": [
      "too low\n",
      "too low\n",
      "too low\n",
      "too low\n",
      "too low\n",
      "found it!\n"
     ]
    }
   ],
   "source": [
    "\"\"\"\n",
    "Loop with while and for \n",
    "Things to do 6.3\n",
    "Using for loop to compare numbers\n",
    "Rashmi Baral\n",
    "\"\"\"\n",
    "\n",
    "guess_me = 5 \n",
    "# assigning 7 to variable guess_me\n",
    "for i in range (10):\n",
    "#     for loop to iterate a variable number over range(10)\n",
    "    if i < guess_me:\n",
    "#     compares whether the number is less than guess_me\n",
    "        print (\"too low\")\n",
    "    elif i == guess_me:\n",
    "        print (\"found it!\")\n",
    "#         compares whether the number is equal to guess_me\n",
    "        break\n",
    "#      break out of the for loop\n",
    "    else:\n",
    "        print (\"oops\")"
   ]
  }
 ],
 "metadata": {
  "kernelspec": {
   "display_name": "Python 3 (ipykernel)",
   "language": "python",
   "name": "python3"
  },
  "language_info": {
   "codemirror_mode": {
    "name": "ipython",
    "version": 3
   },
   "file_extension": ".py",
   "mimetype": "text/x-python",
   "name": "python",
   "nbconvert_exporter": "python",
   "pygments_lexer": "ipython3",
   "version": "3.11.4"
  }
 },
 "nbformat": 4,
 "nbformat_minor": 5
}
